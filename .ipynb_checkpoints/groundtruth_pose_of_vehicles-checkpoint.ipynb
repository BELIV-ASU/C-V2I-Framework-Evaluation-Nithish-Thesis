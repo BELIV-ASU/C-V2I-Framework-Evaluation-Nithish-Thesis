{
 "cells": [
  {
   "cell_type": "code",
   "execution_count": 1,
   "id": "db57badd-dd66-41b3-90c7-de11f65656fa",
   "metadata": {},
   "outputs": [],
   "source": [
    "import csv\n",
    "import pandas as pd\n",
    "import matplotlib.pyplot as plt\n",
    "import numpy as np\n",
    "import math\n",
    "from matplotlib.patches import Rectangle, Circle, Patch\n",
    "from matplotlib.lines import Line2D"
   ]
  },
  {
   "cell_type": "code",
   "execution_count": 2,
   "id": "ef38d388-d79e-4d1c-ac34-37dfe157290b",
   "metadata": {},
   "outputs": [],
   "source": [
    "file_path = \"/home/nithish/autoware/src/universe/autoware.universe/perception/sim_c_v2i_evaluation/data/ground_truth_objects.csv\"\n",
    "df = pd.read_csv(file_path, names=[\"obj1_px\", \"obj1_py\", \"obj1_pz\", \"obj1_qx\", \"obj1_qy\", \"obj1_qz\", \"obj1_qw\",\n",
    "            \"obj2_px\", \"obj2_py\", \"obj2_pz\", \"obj2_qx\", \"obj2_qy\", \"obj2_qz\", \"obj2_qw\"])\n",
    "df.index.name = \"frame_id\""
   ]
  },
  {
   "cell_type": "code",
   "execution_count": 3,
   "id": "1fc11041-de28-4193-bd44-1f25820f0033",
   "metadata": {},
   "outputs": [
    {
     "data": {
      "text/html": [
       "<div>\n",
       "<style scoped>\n",
       "    .dataframe tbody tr th:only-of-type {\n",
       "        vertical-align: middle;\n",
       "    }\n",
       "\n",
       "    .dataframe tbody tr th {\n",
       "        vertical-align: top;\n",
       "    }\n",
       "\n",
       "    .dataframe thead th {\n",
       "        text-align: right;\n",
       "    }\n",
       "</style>\n",
       "<table border=\"1\" class=\"dataframe\">\n",
       "  <thead>\n",
       "    <tr style=\"text-align: right;\">\n",
       "      <th></th>\n",
       "      <th>obj1_px</th>\n",
       "      <th>obj1_py</th>\n",
       "      <th>obj1_pz</th>\n",
       "      <th>obj1_qx</th>\n",
       "      <th>obj1_qy</th>\n",
       "      <th>obj1_qz</th>\n",
       "      <th>obj1_qw</th>\n",
       "      <th>obj2_px</th>\n",
       "      <th>obj2_py</th>\n",
       "      <th>obj2_pz</th>\n",
       "      <th>obj2_qx</th>\n",
       "      <th>obj2_qy</th>\n",
       "      <th>obj2_qz</th>\n",
       "      <th>obj2_qw</th>\n",
       "    </tr>\n",
       "    <tr>\n",
       "      <th>frame_id</th>\n",
       "      <th></th>\n",
       "      <th></th>\n",
       "      <th></th>\n",
       "      <th></th>\n",
       "      <th></th>\n",
       "      <th></th>\n",
       "      <th></th>\n",
       "      <th></th>\n",
       "      <th></th>\n",
       "      <th></th>\n",
       "      <th></th>\n",
       "      <th></th>\n",
       "      <th></th>\n",
       "      <th></th>\n",
       "    </tr>\n",
       "  </thead>\n",
       "  <tbody>\n",
       "    <tr>\n",
       "      <th>0</th>\n",
       "      <td>-110.243683</td>\n",
       "      <td>-0.000402</td>\n",
       "      <td>-0.019672</td>\n",
       "      <td>0.000043</td>\n",
       "      <td>-0.000038</td>\n",
       "      <td>-0.711059</td>\n",
       "      <td>0.703132</td>\n",
       "      <td>-67.206413</td>\n",
       "      <td>58.194321</td>\n",
       "      <td>0.00424</td>\n",
       "      <td>-0.000004</td>\n",
       "      <td>-7.540472e-07</td>\n",
       "      <td>-0.005208</td>\n",
       "      <td>0.999986</td>\n",
       "    </tr>\n",
       "    <tr>\n",
       "      <th>1</th>\n",
       "      <td>-110.243683</td>\n",
       "      <td>-0.000402</td>\n",
       "      <td>-0.019672</td>\n",
       "      <td>0.000043</td>\n",
       "      <td>-0.000038</td>\n",
       "      <td>-0.711059</td>\n",
       "      <td>0.703132</td>\n",
       "      <td>-67.206413</td>\n",
       "      <td>58.194321</td>\n",
       "      <td>0.00424</td>\n",
       "      <td>-0.000004</td>\n",
       "      <td>-7.540472e-07</td>\n",
       "      <td>-0.005208</td>\n",
       "      <td>0.999986</td>\n",
       "    </tr>\n",
       "  </tbody>\n",
       "</table>\n",
       "</div>"
      ],
      "text/plain": [
       "             obj1_px   obj1_py   obj1_pz   obj1_qx   obj1_qy   obj1_qz  \\\n",
       "frame_id                                                                 \n",
       "0        -110.243683 -0.000402 -0.019672  0.000043 -0.000038 -0.711059   \n",
       "1        -110.243683 -0.000402 -0.019672  0.000043 -0.000038 -0.711059   \n",
       "\n",
       "           obj1_qw    obj2_px    obj2_py  obj2_pz   obj2_qx       obj2_qy  \\\n",
       "frame_id                                                                    \n",
       "0         0.703132 -67.206413  58.194321  0.00424 -0.000004 -7.540472e-07   \n",
       "1         0.703132 -67.206413  58.194321  0.00424 -0.000004 -7.540472e-07   \n",
       "\n",
       "           obj2_qz   obj2_qw  \n",
       "frame_id                      \n",
       "0        -0.005208  0.999986  \n",
       "1        -0.005208  0.999986  "
      ]
     },
     "execution_count": 3,
     "metadata": {},
     "output_type": "execute_result"
    }
   ],
   "source": [
    "df.head(2)"
   ]
  },
  {
   "cell_type": "code",
   "execution_count": 21,
   "id": "5f5470ff-b179-4ab2-a74b-f959ecc06360",
   "metadata": {},
   "outputs": [
    {
     "data": {
      "text/plain": [
       "<matplotlib.legend.Legend at 0x785cd0b23550>"
      ]
     },
     "execution_count": 21,
     "metadata": {},
     "output_type": "execute_result"
    },
    {
     "data": {
      "image/png": "[encoded data removed]",
      "text/plain": [
       "<Figure size 800x800 with 1 Axes>"
      ]
     },
     "metadata": {},
     "output_type": "display_data"
    }
   ],
   "source": [
    "fig = plt.figure() \n",
    "fig.set_figwidth(8)\n",
    "fig.set_figheight(8)\n",
    "fig.tight_layout(pad=55.0)\n",
    "plt.subplots_adjust(left=0.1, bottom=0.1, right=0.9, top=0.9, wspace=0.4, hspace=0.4)\n",
    "\n",
    "ax = fig.add_subplot(221) \n",
    "plt.xlabel(\"Vehicle position in x-axis (in meters)\")\n",
    "plt.ylabel(\"Vehicle position in y-axis (in meters)\")\n",
    "plt.title('Ground truth pose of vehicles')\n",
    "plt.plot(df.iloc[:, 0], df.iloc[:, 1], label='Object 1 groundtruth', color='green')\n",
    "plt.plot(df.iloc[:, 7], df.iloc[:, 8], label='Object 2 groundtruth', color='blue')\n",
    "plt.legend(loc='lower left')"
   ]
  },
  {
   "cell_type": "code",
   "execution_count": null,
   "id": "f953acd6-f9a3-49a7-b12e-e9706c41fc6d",
   "metadata": {},
   "outputs": [],
   "source": []
  }
 ],
 "metadata": {
  "kernelspec": {
   "display_name": "Python 3 (ipykernel)",
   "language": "python",
   "name": "python3"
  },
  "language_info": {
   "codemirror_mode": {
    "name": "ipython",
    "version": 3
   },
   "file_extension": ".py",
   "mimetype": "text/x-python",
   "name": "python",
   "nbconvert_exporter": "python",
   "pygments_lexer": "ipython3",
   "version": "3.10.12"
  }
 },
 "nbformat": 4,
 "nbformat_minor": 5
}
